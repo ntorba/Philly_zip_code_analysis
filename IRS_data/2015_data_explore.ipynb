{
 "cells": [
  {
   "cell_type": "code",
   "execution_count": 1,
   "metadata": {},
   "outputs": [],
   "source": [
    "import pandas as pd \n",
    "import numpy as np \n",
    "#DELETED FIRST FOWS INFO FROM CSV\n",
    "#Pennsylvania\n",
    "#Individual Income Tax REturns"
   ]
  },
  {
   "cell_type": "code",
   "execution_count": 17,
   "metadata": {},
   "outputs": [
    {
     "name": "stdout",
     "output_type": "stream",
     "text": [
      "<type 'str'>\n",
      "60\n"
     ]
    }
   ],
   "source": [
    "#create list of zip codes in Philadelphia County (from https://www.zillow.com/browse/homes/pa/philadelphia-county/)\n",
    "zip_file = 'zip_codes.txt'\n",
    "read_zips = open(zip_file, 'r')\n",
    "zip_list = [line.rstrip('\\n') for line in read_zips.readlines()]  \n",
    "print type(zip_list[0])\n",
    "print len(zip_list)"
   ]
  },
  {
   "cell_type": "code",
   "execution_count": 3,
   "metadata": {},
   "outputs": [],
   "source": [
    "df = pd.read_csv('pa_2015_total_number_returns.csv')"
   ]
  },
  {
   "cell_type": "code",
   "execution_count": 4,
   "metadata": {},
   "outputs": [
    {
     "name": "stdout",
     "output_type": "stream",
     "text": [
      "<class 'pandas.core.frame.DataFrame'>\n",
      "RangeIndex: 10962 entries, 0 to 10961\n",
      "Data columns (total 3 columns):\n",
      "ZIP\n",
      "code [1]                     9593 non-null object\n",
      "Size of adjusted gross income    8209 non-null object\n",
      "Number of returns                9577 non-null object\n",
      "dtypes: object(3)\n",
      "memory usage: 257.0+ KB\n"
     ]
    }
   ],
   "source": [
    "df.info()"
   ]
  },
  {
   "cell_type": "code",
   "execution_count": 5,
   "metadata": {},
   "outputs": [],
   "source": [
    "df = df.drop([0,1])\n",
    "df = df.rename(columns={'ZIP\\ncode [1]': \"zip_code\"})\n",
    "df = df.dropna(how='all')\n",
    "values = {'Size of adjusted gross income': 'Total', 'Number of returns':0}\n",
    "df = df.fillna(value = values)"
   ]
  },
  {
   "cell_type": "code",
   "execution_count": 6,
   "metadata": {
    "scrolled": true
   },
   "outputs": [
    {
     "data": {
      "text/html": [
       "<div>\n",
       "<style scoped>\n",
       "    .dataframe tbody tr th:only-of-type {\n",
       "        vertical-align: middle;\n",
       "    }\n",
       "\n",
       "    .dataframe tbody tr th {\n",
       "        vertical-align: top;\n",
       "    }\n",
       "\n",
       "    .dataframe thead th {\n",
       "        text-align: right;\n",
       "    }\n",
       "</style>\n",
       "<table border=\"1\" class=\"dataframe\">\n",
       "  <thead>\n",
       "    <tr style=\"text-align: right;\">\n",
       "      <th></th>\n",
       "      <th>zip_code</th>\n",
       "      <th>Size of adjusted gross income</th>\n",
       "      <th>Number of returns</th>\n",
       "    </tr>\n",
       "  </thead>\n",
       "  <tbody>\n",
       "    <tr>\n",
       "      <th>2</th>\n",
       "      <td>00000</td>\n",
       "      <td>Total</td>\n",
       "      <td>6,128,720</td>\n",
       "    </tr>\n",
       "    <tr>\n",
       "      <th>3</th>\n",
       "      <td>00000</td>\n",
       "      <td>$1 under $25,000</td>\n",
       "      <td>2233990</td>\n",
       "    </tr>\n",
       "    <tr>\n",
       "      <th>4</th>\n",
       "      <td>00000</td>\n",
       "      <td>$25,000 under $50,000</td>\n",
       "      <td>1428240</td>\n",
       "    </tr>\n",
       "    <tr>\n",
       "      <th>5</th>\n",
       "      <td>00000</td>\n",
       "      <td>$50,000 under $75,000</td>\n",
       "      <td>864410</td>\n",
       "    </tr>\n",
       "    <tr>\n",
       "      <th>6</th>\n",
       "      <td>00000</td>\n",
       "      <td>$75,000 under $100,000</td>\n",
       "      <td>573560</td>\n",
       "    </tr>\n",
       "    <tr>\n",
       "      <th>7</th>\n",
       "      <td>00000</td>\n",
       "      <td>$100,000 under $200,000</td>\n",
       "      <td>779480</td>\n",
       "    </tr>\n",
       "    <tr>\n",
       "      <th>8</th>\n",
       "      <td>00000</td>\n",
       "      <td>$200,000 or more</td>\n",
       "      <td>249040</td>\n",
       "    </tr>\n",
       "    <tr>\n",
       "      <th>10</th>\n",
       "      <td>15001</td>\n",
       "      <td>Total</td>\n",
       "      <td>16,460</td>\n",
       "    </tr>\n",
       "    <tr>\n",
       "      <th>11</th>\n",
       "      <td>15001</td>\n",
       "      <td>$1 under $25,000</td>\n",
       "      <td>6180</td>\n",
       "    </tr>\n",
       "    <tr>\n",
       "      <th>12</th>\n",
       "      <td>15001</td>\n",
       "      <td>$25,000 under $50,000</td>\n",
       "      <td>3880</td>\n",
       "    </tr>\n",
       "    <tr>\n",
       "      <th>13</th>\n",
       "      <td>15001</td>\n",
       "      <td>$50,000 under $75,000</td>\n",
       "      <td>2400</td>\n",
       "    </tr>\n",
       "    <tr>\n",
       "      <th>14</th>\n",
       "      <td>15001</td>\n",
       "      <td>$75,000 under $100,000</td>\n",
       "      <td>1600</td>\n",
       "    </tr>\n",
       "    <tr>\n",
       "      <th>15</th>\n",
       "      <td>15001</td>\n",
       "      <td>$100,000 under $200,000</td>\n",
       "      <td>2090</td>\n",
       "    </tr>\n",
       "    <tr>\n",
       "      <th>16</th>\n",
       "      <td>15001</td>\n",
       "      <td>$200,000 or more</td>\n",
       "      <td>310</td>\n",
       "    </tr>\n",
       "    <tr>\n",
       "      <th>18</th>\n",
       "      <td>15003</td>\n",
       "      <td>Total</td>\n",
       "      <td>5,740</td>\n",
       "    </tr>\n",
       "    <tr>\n",
       "      <th>19</th>\n",
       "      <td>15003</td>\n",
       "      <td>$1 under $25,000</td>\n",
       "      <td>2410</td>\n",
       "    </tr>\n",
       "    <tr>\n",
       "      <th>20</th>\n",
       "      <td>15003</td>\n",
       "      <td>$25,000 under $50,000</td>\n",
       "      <td>1620</td>\n",
       "    </tr>\n",
       "    <tr>\n",
       "      <th>21</th>\n",
       "      <td>15003</td>\n",
       "      <td>$50,000 under $75,000</td>\n",
       "      <td>880</td>\n",
       "    </tr>\n",
       "    <tr>\n",
       "      <th>22</th>\n",
       "      <td>15003</td>\n",
       "      <td>$75,000 under $100,000</td>\n",
       "      <td>420</td>\n",
       "    </tr>\n",
       "    <tr>\n",
       "      <th>23</th>\n",
       "      <td>15003</td>\n",
       "      <td>$100,000 under $200,000</td>\n",
       "      <td>370</td>\n",
       "    </tr>\n",
       "  </tbody>\n",
       "</table>\n",
       "</div>"
      ],
      "text/plain": [
       "   zip_code Size of adjusted gross income Number of returns\n",
       "2     00000                         Total         6,128,720\n",
       "3     00000              $1 under $25,000           2233990\n",
       "4     00000         $25,000 under $50,000           1428240\n",
       "5     00000         $50,000 under $75,000            864410\n",
       "6     00000        $75,000 under $100,000            573560\n",
       "7     00000       $100,000 under $200,000            779480\n",
       "8     00000              $200,000 or more            249040\n",
       "10    15001                         Total            16,460\n",
       "11    15001              $1 under $25,000              6180\n",
       "12    15001         $25,000 under $50,000              3880\n",
       "13    15001         $50,000 under $75,000              2400\n",
       "14    15001        $75,000 under $100,000              1600\n",
       "15    15001       $100,000 under $200,000              2090\n",
       "16    15001              $200,000 or more               310\n",
       "18    15003                         Total             5,740\n",
       "19    15003              $1 under $25,000              2410\n",
       "20    15003         $25,000 under $50,000              1620\n",
       "21    15003         $50,000 under $75,000               880\n",
       "22    15003        $75,000 under $100,000               420\n",
       "23    15003       $100,000 under $200,000               370"
      ]
     },
     "execution_count": 6,
     "metadata": {},
     "output_type": "execute_result"
    }
   ],
   "source": [
    "df.head(20)"
   ]
  },
  {
   "cell_type": "code",
   "execution_count": 7,
   "metadata": {},
   "outputs": [
    {
     "name": "stdout",
     "output_type": "stream",
     "text": [
      "<class 'pandas.core.frame.DataFrame'>\n",
      "Int64Index: 9593 entries, 2 to 10961\n",
      "Data columns (total 3 columns):\n",
      "zip_code                         9593 non-null object\n",
      "Size of adjusted gross income    9593 non-null object\n",
      "Number of returns                9593 non-null object\n",
      "dtypes: object(3)\n",
      "memory usage: 299.8+ KB\n",
      "None\n"
     ]
    }
   ],
   "source": [
    "print df.info()"
   ]
  },
  {
   "cell_type": "code",
   "execution_count": 9,
   "metadata": {},
   "outputs": [],
   "source": [
    "\n",
    "#df['Number of returns'] = df['Number of returns'].apply(lambda x: x.replace(',','') if type(x)==str)\n",
    "df['Number of returns'] = df['Number of returns'].str.replace(',', '')\n",
    "df['Number of returns'] = df['Number of returns'].str.replace('*', '')\n",
    "df['Number of returns'] = df['Number of returns'].str.replace(' ', '')\n",
    "\n",
    "#df['zip_code'] = df['zip_code'].astype(int)\n",
    "df['Number of returns'] = df['Number of returns'].astype(float)"
   ]
  },
  {
   "cell_type": "code",
   "execution_count": 10,
   "metadata": {},
   "outputs": [
    {
     "name": "stdout",
     "output_type": "stream",
     "text": [
      "<class 'pandas.core.frame.DataFrame'>\n",
      "Int64Index: 9593 entries, 2 to 10961\n",
      "Data columns (total 3 columns):\n",
      "zip_code                         9593 non-null object\n",
      "Size of adjusted gross income    9593 non-null object\n",
      "Number of returns                9576 non-null float64\n",
      "dtypes: float64(1), object(2)\n",
      "memory usage: 299.8+ KB\n"
     ]
    }
   ],
   "source": [
    "df.info()"
   ]
  },
  {
   "cell_type": "code",
   "execution_count": 11,
   "metadata": {},
   "outputs": [
    {
     "data": {
      "text/plain": [
       "\"\\ntable = pivot_table(df, values='D', index=['A', 'B'],\\n...                     columns=['C'], aggfunc=np.sum)\\n\""
      ]
     },
     "execution_count": 11,
     "metadata": {},
     "output_type": "execute_result"
    }
   ],
   "source": [
    "df = df.reset_index(drop=True)\n",
    "'''\n",
    "table = pivot_table(df, values='D', index=['A', 'B'],\n",
    "...                     columns=['C'], aggfunc=np.sum)\n",
    "'''"
   ]
  },
  {
   "cell_type": "code",
   "execution_count": 12,
   "metadata": {},
   "outputs": [],
   "source": [
    "pivot = pd.pivot_table(df, values='Number of returns', index='zip_code', columns = 'Size of adjusted gross income')\n",
    "\n",
    "\n"
   ]
  },
  {
   "cell_type": "code",
   "execution_count": 19,
   "metadata": {},
   "outputs": [],
   "source": [
    "pivot = pivot.reset_index()"
   ]
  },
  {
   "cell_type": "code",
   "execution_count": 20,
   "metadata": {},
   "outputs": [
    {
     "name": "stdout",
     "output_type": "stream",
     "text": [
      "<class 'pandas.core.frame.DataFrame'>\n",
      "Int64Index: 46 entries, 1231 to 1276\n",
      "Data columns (total 8 columns):\n",
      "zip_code                   46 non-null object\n",
      "$1 under $25,000           46 non-null float64\n",
      "$100,000 under $200,000    46 non-null float64\n",
      "$200,000 or more           46 non-null float64\n",
      "$25,000 under $50,000      46 non-null float64\n",
      "$50,000 under $75,000      46 non-null float64\n",
      "$75,000 under $100,000     46 non-null float64\n",
      "Total                      46 non-null float64\n",
      "dtypes: float64(7), object(1)\n",
      "memory usage: 3.2+ KB\n"
     ]
    }
   ],
   "source": [
    "test = pivot[pivot['zip_code'].isin(zip_list)]\n",
    "test.info()"
   ]
  },
  {
   "cell_type": "code",
   "execution_count": 21,
   "metadata": {},
   "outputs": [
    {
     "name": "stdout",
     "output_type": "stream",
     "text": [
      "set(['19110', '19112', '19099', '19105', '19192', '19187', '19092', '19019', '19173', '19109', '19101', '19155', '19170', '19176'])\n"
     ]
    }
   ],
   "source": [
    "print set(zip_list) - set(pivot['zip_code'])"
   ]
  },
  {
   "cell_type": "code",
   "execution_count": null,
   "metadata": {},
   "outputs": [],
   "source": []
  }
 ],
 "metadata": {
  "kernelspec": {
   "display_name": "Python 2",
   "language": "python",
   "name": "python2"
  },
  "language_info": {
   "codemirror_mode": {
    "name": "ipython",
    "version": 2
   },
   "file_extension": ".py",
   "mimetype": "text/x-python",
   "name": "python",
   "nbconvert_exporter": "python",
   "pygments_lexer": "ipython2",
   "version": "2.7.15"
  }
 },
 "nbformat": 4,
 "nbformat_minor": 2
}
